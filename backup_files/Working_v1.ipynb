{
 "cells": [
  {
   "cell_type": "code",
   "execution_count": 1,
   "metadata": {},
   "outputs": [
    {
     "name": "stderr",
     "output_type": "stream",
     "text": [
      "/Users/kai_graham/opt/anaconda3/envs/learn-env/lib/python3.6/site-packages/statsmodels/tools/_testing.py:19: FutureWarning: pandas.util.testing is deprecated. Use the functions in the public API at pandas.testing instead.\n",
      "  import pandas.util.testing as tm\n"
     ]
    }
   ],
   "source": [
    "# import necessary libraries\n",
    "import pandas as pd\n",
    "import numpy as np\n",
    "import matplotlib.pyplot as plt\n",
    "import seaborn as sns\n",
    "from sklearn.linear_model import LinearRegression\n",
    "from sklearn.model_selection import cross_val_score\n",
    "from sklearn.model_selection import KFold\n",
    "%matplotlib inline"
   ]
  },
  {
   "cell_type": "code",
   "execution_count": 2,
   "metadata": {},
   "outputs": [],
   "source": [
    "# set style of graphs\n",
    "plt.style.use('ggplot')"
   ]
  },
  {
   "cell_type": "code",
   "execution_count": 3,
   "metadata": {},
   "outputs": [],
   "source": [
    "# import the dataset\n",
    "raw_data = pd.read_csv('kc_house_data.csv')"
   ]
  },
  {
   "cell_type": "code",
   "execution_count": 4,
   "metadata": {},
   "outputs": [
    {
     "name": "stdout",
     "output_type": "stream",
     "text": [
      "<class 'pandas.core.frame.DataFrame'>\n",
      "RangeIndex: 21597 entries, 0 to 21596\n",
      "Data columns (total 21 columns):\n",
      " #   Column         Non-Null Count  Dtype  \n",
      "---  ------         --------------  -----  \n",
      " 0   id             21597 non-null  int64  \n",
      " 1   date           21597 non-null  object \n",
      " 2   price          21597 non-null  float64\n",
      " 3   bedrooms       21597 non-null  int64  \n",
      " 4   bathrooms      21597 non-null  float64\n",
      " 5   sqft_living    21597 non-null  int64  \n",
      " 6   sqft_lot       21597 non-null  int64  \n",
      " 7   floors         21597 non-null  float64\n",
      " 8   waterfront     19221 non-null  float64\n",
      " 9   view           21534 non-null  float64\n",
      " 10  condition      21597 non-null  int64  \n",
      " 11  grade          21597 non-null  int64  \n",
      " 12  sqft_above     21597 non-null  int64  \n",
      " 13  sqft_basement  21597 non-null  object \n",
      " 14  yr_built       21597 non-null  int64  \n",
      " 15  yr_renovated   17755 non-null  float64\n",
      " 16  zipcode        21597 non-null  int64  \n",
      " 17  lat            21597 non-null  float64\n",
      " 18  long           21597 non-null  float64\n",
      " 19  sqft_living15  21597 non-null  int64  \n",
      " 20  sqft_lot15     21597 non-null  int64  \n",
      "dtypes: float64(8), int64(11), object(2)\n",
      "memory usage: 3.5+ MB\n"
     ]
    }
   ],
   "source": [
    "# examine the dataset \n",
    "raw_data.info()"
   ]
  },
  {
   "cell_type": "code",
   "execution_count": 5,
   "metadata": {},
   "outputs": [],
   "source": [
    "# looking at this, there are a number of missing values and some columns that will need to be translated\n",
    "# into a number type"
   ]
  },
  {
   "cell_type": "code",
   "execution_count": 6,
   "metadata": {},
   "outputs": [
    {
     "data": {
      "text/plain": [
       "count    2.159700e+04\n",
       "mean     5.402966e+05\n",
       "std      3.673681e+05\n",
       "min      7.800000e+04\n",
       "25%      3.220000e+05\n",
       "50%      4.500000e+05\n",
       "75%      6.450000e+05\n",
       "max      7.700000e+06\n",
       "Name: price, dtype: float64"
      ]
     },
     "execution_count": 6,
     "metadata": {},
     "output_type": "execute_result"
    }
   ],
   "source": [
    "# look at price - - our dependent variable\n",
    "raw_data['price'].describe()"
   ]
  },
  {
   "cell_type": "code",
   "execution_count": 7,
   "metadata": {},
   "outputs": [],
   "source": [
    "# histogram of price to see distribution"
   ]
  },
  {
   "cell_type": "code",
   "execution_count": 8,
   "metadata": {},
   "outputs": [
    {
     "data": {
      "image/png": "[encoded data removed]",
      "text/plain": [
       "<Figure size 576x216 with 1 Axes>"
      ]
     },
     "metadata": {},
     "output_type": "display_data"
    }
   ],
   "source": [
    "plt.figure(figsize=(8, 3))\n",
    "raw_data['price'].hist(bins='auto')\n",
    "plt.tight_layout()"
   ]
  },
  {
   "cell_type": "code",
   "execution_count": 9,
   "metadata": {},
   "outputs": [],
   "source": [
    "# clear right skew"
   ]
  },
  {
   "cell_type": "code",
   "execution_count": 10,
   "metadata": {},
   "outputs": [],
   "source": [
    "# 75% of values are less than $650K with the max price being significantly higher than the median of \n",
    "# $450K at $7.7M"
   ]
  },
  {
   "cell_type": "code",
   "execution_count": 11,
   "metadata": {},
   "outputs": [
    {
     "data": {
      "text/plain": [
       "Index(['id', 'date', 'price', 'bedrooms', 'bathrooms', 'sqft_living',\n",
       "       'sqft_lot', 'floors', 'waterfront', 'view', 'condition', 'grade',\n",
       "       'sqft_above', 'sqft_basement', 'yr_built', 'yr_renovated', 'zipcode',\n",
       "       'lat', 'long', 'sqft_living15', 'sqft_lot15'],\n",
       "      dtype='object')"
      ]
     },
     "execution_count": 11,
     "metadata": {},
     "output_type": "execute_result"
    }
   ],
   "source": [
    "raw_data.columns"
   ]
  },
  {
   "cell_type": "code",
   "execution_count": 12,
   "metadata": {},
   "outputs": [],
   "source": [
    "# remove id column as it won't help with regression\n",
    "clean_data = raw_data.drop('id', axis=1)"
   ]
  },
  {
   "cell_type": "code",
   "execution_count": 13,
   "metadata": {},
   "outputs": [
    {
     "data": {
      "text/plain": [
       "Index(['date', 'price', 'bedrooms', 'bathrooms', 'sqft_living', 'sqft_lot',\n",
       "       'floors', 'waterfront', 'view', 'condition', 'grade', 'sqft_above',\n",
       "       'sqft_basement', 'yr_built', 'yr_renovated', 'zipcode', 'lat', 'long',\n",
       "       'sqft_living15', 'sqft_lot15'],\n",
       "      dtype='object')"
      ]
     },
     "execution_count": 13,
     "metadata": {},
     "output_type": "execute_result"
    }
   ],
   "source": [
    "clean_data.columns"
   ]
  },
  {
   "cell_type": "code",
   "execution_count": 14,
   "metadata": {},
   "outputs": [
    {
     "name": "stdout",
     "output_type": "stream",
     "text": [
      "<class 'pandas.core.frame.DataFrame'>\n",
      "RangeIndex: 21597 entries, 0 to 21596\n",
      "Data columns (total 20 columns):\n",
      " #   Column         Non-Null Count  Dtype  \n",
      "---  ------         --------------  -----  \n",
      " 0   date           21597 non-null  object \n",
      " 1   price          21597 non-null  float64\n",
      " 2   bedrooms       21597 non-null  int64  \n",
      " 3   bathrooms      21597 non-null  float64\n",
      " 4   sqft_living    21597 non-null  int64  \n",
      " 5   sqft_lot       21597 non-null  int64  \n",
      " 6   floors         21597 non-null  float64\n",
      " 7   waterfront     19221 non-null  float64\n",
      " 8   view           21534 non-null  float64\n",
      " 9   condition      21597 non-null  int64  \n",
      " 10  grade          21597 non-null  int64  \n",
      " 11  sqft_above     21597 non-null  int64  \n",
      " 12  sqft_basement  21597 non-null  object \n",
      " 13  yr_built       21597 non-null  int64  \n",
      " 14  yr_renovated   17755 non-null  float64\n",
      " 15  zipcode        21597 non-null  int64  \n",
      " 16  lat            21597 non-null  float64\n",
      " 17  long           21597 non-null  float64\n",
      " 18  sqft_living15  21597 non-null  int64  \n",
      " 19  sqft_lot15     21597 non-null  int64  \n",
      "dtypes: float64(8), int64(10), object(2)\n",
      "memory usage: 3.3+ MB\n"
     ]
    }
   ],
   "source": [
    "clean_data.info()"
   ]
  },
  {
   "cell_type": "code",
   "execution_count": 15,
   "metadata": {},
   "outputs": [],
   "source": [
    "# handle missing values: waterfront, yr_renovated, view are columns with missing values"
   ]
  },
  {
   "cell_type": "code",
   "execution_count": 16,
   "metadata": {},
   "outputs": [
    {
     "data": {
      "text/plain": [
       "2"
      ]
     },
     "execution_count": 16,
     "metadata": {},
     "output_type": "execute_result"
    }
   ],
   "source": [
    "# Waterfront Missing Values\n",
    "clean_data['waterfront'].nunique()"
   ]
  },
  {
   "cell_type": "code",
   "execution_count": 17,
   "metadata": {},
   "outputs": [
    {
     "data": {
      "text/plain": [
       "array([nan,  0.,  1.])"
      ]
     },
     "execution_count": 17,
     "metadata": {},
     "output_type": "execute_result"
    }
   ],
   "source": [
    "clean_data['waterfront'].unique()"
   ]
  },
  {
   "cell_type": "code",
   "execution_count": 18,
   "metadata": {},
   "outputs": [
    {
     "data": {
      "text/plain": [
       "2376"
      ]
     },
     "execution_count": 18,
     "metadata": {},
     "output_type": "execute_result"
    }
   ],
   "source": [
    "# how many values are nan\n",
    "clean_data['waterfront'].isna().sum()"
   ]
  },
  {
   "cell_type": "code",
   "execution_count": 19,
   "metadata": {},
   "outputs": [],
   "source": [
    "# given how many values this is, going to keep the data in for now\n",
    "# set all nans to 0 as houses missing waterfront information likely do not have waterfronts\n",
    "clean_data['waterfront'] = clean_data['waterfront'].fillna(value=0.)"
   ]
  },
  {
   "cell_type": "code",
   "execution_count": 20,
   "metadata": {},
   "outputs": [
    {
     "data": {
      "text/plain": [
       "70"
      ]
     },
     "execution_count": 20,
     "metadata": {},
     "output_type": "execute_result"
    }
   ],
   "source": [
    "# yr_renovated missing values\n",
    "clean_data['yr_renovated'].nunique()"
   ]
  },
  {
   "cell_type": "code",
   "execution_count": 21,
   "metadata": {},
   "outputs": [
    {
     "data": {
      "text/plain": [
       "array([   0., 1991.,   nan, 2002., 2010., 1992., 2013., 1994., 1978.,\n",
       "       2005., 2003., 1984., 1954., 2014., 2011., 1983., 1945., 1990.,\n",
       "       1988., 1977., 1981., 1995., 2000., 1999., 1998., 1970., 1989.,\n",
       "       2004., 1986., 2007., 1987., 2006., 1985., 2001., 1980., 1971.,\n",
       "       1979., 1997., 1950., 1969., 1948., 2009., 2015., 1974., 2008.,\n",
       "       1968., 2012., 1963., 1951., 1962., 1953., 1993., 1996., 1955.,\n",
       "       1982., 1956., 1940., 1976., 1946., 1975., 1964., 1973., 1957.,\n",
       "       1959., 1960., 1967., 1965., 1934., 1972., 1944., 1958.])"
      ]
     },
     "execution_count": 21,
     "metadata": {},
     "output_type": "execute_result"
    }
   ],
   "source": [
    "clean_data['yr_renovated'].unique()"
   ]
  },
  {
   "cell_type": "code",
   "execution_count": 22,
   "metadata": {},
   "outputs": [
    {
     "data": {
      "text/plain": [
       "3842"
      ]
     },
     "execution_count": 22,
     "metadata": {},
     "output_type": "execute_result"
    }
   ],
   "source": [
    "# how many are missing values?\n",
    "clean_data['yr_renovated'].isna().sum()"
   ]
  },
  {
   "cell_type": "code",
   "execution_count": 23,
   "metadata": {},
   "outputs": [],
   "source": [
    "# similar to waterfront, going to assume that missing yr_renovated data is likely the result of a house \n",
    "# not having a renovation - - reassign all nans to 0.\n",
    "clean_data['yr_renovated'] = clean_data['yr_renovated'].fillna(value=0.)"
   ]
  },
  {
   "cell_type": "code",
   "execution_count": 24,
   "metadata": {},
   "outputs": [
    {
     "data": {
      "text/plain": [
       "63"
      ]
     },
     "execution_count": 24,
     "metadata": {},
     "output_type": "execute_result"
    }
   ],
   "source": [
    "# View missing values\n",
    "clean_data['view'].isna().sum()"
   ]
  },
  {
   "cell_type": "code",
   "execution_count": 25,
   "metadata": {},
   "outputs": [
    {
     "data": {
      "text/plain": [
       "array([ 0., nan,  3.,  4.,  2.,  1.])"
      ]
     },
     "execution_count": 25,
     "metadata": {},
     "output_type": "execute_result"
    }
   ],
   "source": [
    "clean_data['view'].unique()"
   ]
  },
  {
   "cell_type": "code",
   "execution_count": 26,
   "metadata": {},
   "outputs": [],
   "source": [
    "# view relates to the number of times a house has been viewed -- similar to above assuming that\n",
    "# missing values are related to houses that have not been viewed -- reassign all nans to 0.\n",
    "clean_data['view'] = clean_data['view'].fillna(value=0.)"
   ]
  },
  {
   "cell_type": "code",
   "execution_count": 27,
   "metadata": {},
   "outputs": [
    {
     "data": {
      "text/plain": [
       "date             0\n",
       "price            0\n",
       "bedrooms         0\n",
       "bathrooms        0\n",
       "sqft_living      0\n",
       "sqft_lot         0\n",
       "floors           0\n",
       "waterfront       0\n",
       "view             0\n",
       "condition        0\n",
       "grade            0\n",
       "sqft_above       0\n",
       "sqft_basement    0\n",
       "yr_built         0\n",
       "yr_renovated     0\n",
       "zipcode          0\n",
       "lat              0\n",
       "long             0\n",
       "sqft_living15    0\n",
       "sqft_lot15       0\n",
       "dtype: int64"
      ]
     },
     "execution_count": 27,
     "metadata": {},
     "output_type": "execute_result"
    }
   ],
   "source": [
    "# check for any remaining missing values\n",
    "clean_data.isna().sum()"
   ]
  },
  {
   "cell_type": "code",
   "execution_count": 28,
   "metadata": {},
   "outputs": [],
   "source": [
    "# no more missing values"
   ]
  },
  {
   "cell_type": "code",
   "execution_count": 29,
   "metadata": {},
   "outputs": [
    {
     "data": {
      "text/plain": [
       "False"
      ]
     },
     "execution_count": 29,
     "metadata": {},
     "output_type": "execute_result"
    }
   ],
   "source": [
    "# check for any duplicates\n",
    "clean_data.duplicated().any()"
   ]
  },
  {
   "cell_type": "code",
   "execution_count": 30,
   "metadata": {},
   "outputs": [],
   "source": [
    "# there are no duplicates"
   ]
  },
  {
   "cell_type": "code",
   "execution_count": 31,
   "metadata": {},
   "outputs": [
    {
     "name": "stdout",
     "output_type": "stream",
     "text": [
      "<class 'pandas.core.frame.DataFrame'>\n",
      "RangeIndex: 21597 entries, 0 to 21596\n",
      "Data columns (total 20 columns):\n",
      " #   Column         Non-Null Count  Dtype  \n",
      "---  ------         --------------  -----  \n",
      " 0   date           21597 non-null  object \n",
      " 1   price          21597 non-null  float64\n",
      " 2   bedrooms       21597 non-null  int64  \n",
      " 3   bathrooms      21597 non-null  float64\n",
      " 4   sqft_living    21597 non-null  int64  \n",
      " 5   sqft_lot       21597 non-null  int64  \n",
      " 6   floors         21597 non-null  float64\n",
      " 7   waterfront     21597 non-null  float64\n",
      " 8   view           21597 non-null  float64\n",
      " 9   condition      21597 non-null  int64  \n",
      " 10  grade          21597 non-null  int64  \n",
      " 11  sqft_above     21597 non-null  int64  \n",
      " 12  sqft_basement  21597 non-null  object \n",
      " 13  yr_built       21597 non-null  int64  \n",
      " 14  yr_renovated   21597 non-null  float64\n",
      " 15  zipcode        21597 non-null  int64  \n",
      " 16  lat            21597 non-null  float64\n",
      " 17  long           21597 non-null  float64\n",
      " 18  sqft_living15  21597 non-null  int64  \n",
      " 19  sqft_lot15     21597 non-null  int64  \n",
      "dtypes: float64(8), int64(10), object(2)\n",
      "memory usage: 3.3+ MB\n"
     ]
    }
   ],
   "source": [
    "# Handle strings and convert all columns to appropriate types for regression\n",
    "clean_data.info()"
   ]
  },
  {
   "cell_type": "code",
   "execution_count": 32,
   "metadata": {},
   "outputs": [
    {
     "data": {
      "text/plain": [
       "array(['0.0', '400.0', '910.0', '1530.0', '?', '730.0', '1700.0', '300.0',\n",
       "       '970.0', '760.0', '720.0', '700.0', '820.0', '780.0', '790.0',\n",
       "       '330.0', '1620.0', '360.0', '588.0', '1510.0', '410.0', '990.0',\n",
       "       '600.0', '560.0', '550.0', '1000.0', '1600.0', '500.0', '1040.0',\n",
       "       '880.0', '1010.0', '240.0', '265.0', '290.0', '800.0', '540.0',\n",
       "       '710.0', '840.0', '380.0', '770.0', '480.0', '570.0', '1490.0',\n",
       "       '620.0', '1250.0', '1270.0', '120.0', '650.0', '180.0', '1130.0',\n",
       "       '450.0', '1640.0', '1460.0', '1020.0', '1030.0', '750.0', '640.0',\n",
       "       '1070.0', '490.0', '1310.0', '630.0', '2000.0', '390.0', '430.0',\n",
       "       '850.0', '210.0', '1430.0', '1950.0', '440.0', '220.0', '1160.0',\n",
       "       '860.0', '580.0', '2060.0', '1820.0', '1180.0', '200.0', '1150.0',\n",
       "       '1200.0', '680.0', '530.0', '1450.0', '1170.0', '1080.0', '960.0',\n",
       "       '280.0', '870.0', '1100.0', '460.0', '1400.0', '660.0', '1220.0',\n",
       "       '900.0', '420.0', '1580.0', '1380.0', '475.0', '690.0', '270.0',\n",
       "       '350.0', '935.0', '1370.0', '980.0', '1470.0', '160.0', '950.0',\n",
       "       '50.0', '740.0', '1780.0', '1900.0', '340.0', '470.0', '370.0',\n",
       "       '140.0', '1760.0', '130.0', '520.0', '890.0', '1110.0', '150.0',\n",
       "       '1720.0', '810.0', '190.0', '1290.0', '670.0', '1800.0', '1120.0',\n",
       "       '1810.0', '60.0', '1050.0', '940.0', '310.0', '930.0', '1390.0',\n",
       "       '610.0', '1830.0', '1300.0', '510.0', '1330.0', '1590.0', '920.0',\n",
       "       '1320.0', '1420.0', '1240.0', '1960.0', '1560.0', '2020.0',\n",
       "       '1190.0', '2110.0', '1280.0', '250.0', '2390.0', '1230.0', '170.0',\n",
       "       '830.0', '1260.0', '1410.0', '1340.0', '590.0', '1500.0', '1140.0',\n",
       "       '260.0', '100.0', '320.0', '1480.0', '1060.0', '1284.0', '1670.0',\n",
       "       '1350.0', '2570.0', '1090.0', '110.0', '2500.0', '90.0', '1940.0',\n",
       "       '1550.0', '2350.0', '2490.0', '1481.0', '1360.0', '1135.0',\n",
       "       '1520.0', '1850.0', '1660.0', '2130.0', '2600.0', '1690.0',\n",
       "       '243.0', '1210.0', '1024.0', '1798.0', '1610.0', '1440.0',\n",
       "       '1570.0', '1650.0', '704.0', '1910.0', '1630.0', '2360.0',\n",
       "       '1852.0', '2090.0', '2400.0', '1790.0', '2150.0', '230.0', '70.0',\n",
       "       '1680.0', '2100.0', '3000.0', '1870.0', '1710.0', '2030.0',\n",
       "       '875.0', '1540.0', '2850.0', '2170.0', '506.0', '906.0', '145.0',\n",
       "       '2040.0', '784.0', '1750.0', '374.0', '518.0', '2720.0', '2730.0',\n",
       "       '1840.0', '3480.0', '2160.0', '1920.0', '2330.0', '1860.0',\n",
       "       '2050.0', '4820.0', '1913.0', '80.0', '2010.0', '3260.0', '2200.0',\n",
       "       '415.0', '1730.0', '652.0', '2196.0', '1930.0', '515.0', '40.0',\n",
       "       '2080.0', '2580.0', '1548.0', '1740.0', '235.0', '861.0', '1890.0',\n",
       "       '2220.0', '792.0', '2070.0', '4130.0', '2250.0', '2240.0',\n",
       "       '1990.0', '768.0', '2550.0', '435.0', '1008.0', '2300.0', '2610.0',\n",
       "       '666.0', '3500.0', '172.0', '1816.0', '2190.0', '1245.0', '1525.0',\n",
       "       '1880.0', '862.0', '946.0', '1281.0', '414.0', '2180.0', '276.0',\n",
       "       '1248.0', '602.0', '516.0', '176.0', '225.0', '1275.0', '266.0',\n",
       "       '283.0', '65.0', '2310.0', '10.0', '1770.0', '2120.0', '295.0',\n",
       "       '207.0', '915.0', '556.0', '417.0', '143.0', '508.0', '2810.0',\n",
       "       '20.0', '274.0', '248.0'], dtype=object)"
      ]
     },
     "execution_count": 32,
     "metadata": {},
     "output_type": "execute_result"
    }
   ],
   "source": [
    "clean_data['sqft_basement'].unique()"
   ]
  },
  {
   "cell_type": "code",
   "execution_count": 33,
   "metadata": {},
   "outputs": [],
   "source": [
    "# replace '?' with zero as assumption is this relates to houses without a basement\n",
    "clean_data['sqft_basement'] = clean_data['sqft_basement'].replace(to_replace = '?',\n",
    "                                                                  value = '0.0')"
   ]
  },
  {
   "cell_type": "code",
   "execution_count": 34,
   "metadata": {},
   "outputs": [],
   "source": [
    "# convert basement column to a number format\n",
    "clean_data['sqft_basement'] = clean_data['sqft_basement'].astype('float64')"
   ]
  },
  {
   "cell_type": "code",
   "execution_count": 35,
   "metadata": {},
   "outputs": [],
   "source": [
    "# handle date column - - convert to a datetime type and then split year, month, and day into separate columns"
   ]
  },
  {
   "cell_type": "code",
   "execution_count": 36,
   "metadata": {},
   "outputs": [
    {
     "data": {
      "text/plain": [
       "array(['10/13/2014', '12/9/2014', '2/25/2015', '2/18/2015', '5/12/2014',\n",
       "       '6/27/2014', '1/15/2015', '4/15/2015', '3/12/2015', '4/3/2015',\n",
       "       '5/27/2014', '5/28/2014', '10/7/2014', '1/24/2015', '7/31/2014',\n",
       "       '5/29/2014', '12/5/2014', '4/24/2015', '5/14/2014', '8/26/2014',\n",
       "       '7/3/2014', '5/16/2014', '11/20/2014', '11/3/2014', '6/26/2014',\n",
       "       '12/1/2014', '6/24/2014', '3/2/2015', '11/10/2014', '12/3/2014',\n",
       "       '6/13/2014', '12/30/2014', '2/13/2015', '6/20/2014', '7/15/2014',\n",
       "       '8/11/2014', '7/7/2014', '10/28/2014', '7/29/2014', '7/18/2014',\n",
       "       '3/25/2015', '7/16/2014', '4/28/2015', '3/11/2015', '9/16/2014',\n",
       "       '2/17/2015', '12/31/2014', '2/5/2015', '3/3/2015', '8/19/2014',\n",
       "       '4/7/2015', '8/27/2014', '2/23/2015', '12/10/2014', '8/28/2014',\n",
       "       '10/21/2014', '12/7/2014', '6/3/2014', '9/9/2014', '10/9/2014',\n",
       "       '8/25/2014', '6/12/2014', '9/12/2014', '1/5/2015', '6/10/2014',\n",
       "       '7/10/2014', '3/16/2015', '11/5/2014', '4/20/2015', '6/9/2014',\n",
       "       '3/23/2015', '12/2/2014', '12/22/2014', '1/28/2015', '6/2/2014',\n",
       "       '11/14/2014', '6/18/2014', '5/19/2014', '9/4/2014', '5/22/2014',\n",
       "       '2/26/2015', '7/25/2014', '12/23/2014', '9/8/2014', '3/30/2015',\n",
       "       '7/11/2014', '6/11/2014', '10/27/2014', '12/12/2014', '9/24/2014',\n",
       "       '4/2/2015', '5/23/2014', '7/23/2014', '3/5/2015', '3/4/2015',\n",
       "       '11/24/2014', '11/21/2014', '6/23/2014', '1/8/2015', '5/11/2015',\n",
       "       '1/2/2015', '11/19/2014', '4/6/2015', '11/4/2014', '7/17/2014',\n",
       "       '1/26/2015', '8/13/2014', '8/5/2014', '5/7/2014', '7/8/2014',\n",
       "       '5/8/2015', '2/27/2015', '6/25/2014', '8/6/2014', '10/30/2014',\n",
       "       '8/20/2014', '4/9/2015', '3/31/2015', '4/1/2015', '7/28/2014',\n",
       "       '8/7/2014', '11/13/2014', '10/3/2014', '3/9/2015', '8/12/2014',\n",
       "       '12/8/2014', '2/19/2015', '3/24/2015', '6/5/2014', '5/2/2014',\n",
       "       '1/16/2015', '9/29/2014', '2/10/2015', '7/9/2014', '5/30/2014',\n",
       "       '11/17/2014', '1/7/2015', '4/14/2015', '9/5/2014', '5/5/2014',\n",
       "       '4/18/2015', '8/18/2014', '5/15/2014', '11/11/2014', '1/13/2015',\n",
       "       '10/14/2014', '11/12/2014', '8/4/2014', '9/19/2014', '11/23/2014',\n",
       "       '4/22/2015', '1/14/2015', '2/21/2015', '10/23/2014', '8/22/2014',\n",
       "       '9/18/2014', '9/3/2014', '6/4/2014', '4/13/2015', '6/16/2014',\n",
       "       '9/2/2014', '3/20/2015', '7/1/2014', '10/1/2014', '1/27/2015',\n",
       "       '4/27/2015', '2/12/2015', '3/14/2015', '9/23/2014', '5/13/2014',\n",
       "       '4/21/2015', '10/20/2014', '2/11/2015', '8/29/2014', '10/24/2014',\n",
       "       '12/16/2014', '8/14/2014', '5/4/2015', '5/1/2015', '10/17/2014',\n",
       "       '9/25/2014', '5/5/2015', '5/13/2015', '6/30/2014', '4/10/2015',\n",
       "       '2/9/2015', '7/2/2014', '2/24/2015', '10/22/2014', '10/2/2014',\n",
       "       '6/19/2014', '2/28/2015', '4/8/2015', '11/22/2014', '7/21/2014',\n",
       "       '2/2/2015', '4/16/2015', '7/22/2014', '11/6/2014', '12/29/2014',\n",
       "       '9/22/2014', '10/6/2014', '9/17/2014', '1/30/2015', '3/26/2015',\n",
       "       '4/23/2015', '12/4/2014', '5/20/2014', '4/29/2015', '3/13/2015',\n",
       "       '1/21/2015', '8/1/2014', '4/30/2015', '3/6/2015', '4/17/2015',\n",
       "       '9/11/2014', '3/18/2015', '7/30/2014', '12/19/2014', '5/6/2014',\n",
       "       '5/12/2015', '8/21/2014', '3/19/2015', '5/2/2015', '2/22/2015',\n",
       "       '11/26/2014', '10/15/2014', '1/6/2015', '8/8/2014', '9/1/2014',\n",
       "       '6/14/2014', '5/10/2015', '5/21/2014', '5/8/2014', '10/29/2014',\n",
       "       '5/7/2015', '9/6/2014', '10/8/2014', '3/10/2015', '12/17/2014',\n",
       "       '12/18/2014', '1/23/2015', '12/11/2014', '9/30/2014', '2/4/2015',\n",
       "       '2/6/2015', '6/17/2014', '5/6/2015', '6/22/2014', '8/15/2014',\n",
       "       '11/18/2014', '8/2/2014', '10/16/2014', '7/12/2014', '9/10/2014',\n",
       "       '5/9/2014', '12/15/2014', '11/7/2014', '7/14/2014', '6/15/2014',\n",
       "       '9/26/2014', '6/6/2014', '1/22/2015', '3/17/2015', '11/25/2014',\n",
       "       '10/10/2014', '12/26/2014', '1/20/2015', '5/14/2015', '1/12/2015',\n",
       "       '7/24/2014', '4/25/2015', '2/20/2015', '9/15/2014', '5/17/2014',\n",
       "       '4/26/2015', '1/9/2015', '4/19/2015', '5/11/2014', '5/24/2014',\n",
       "       '2/14/2015', '5/3/2015', '6/1/2014', '10/31/2014', '3/27/2015',\n",
       "       '6/21/2014', '10/18/2014', '12/20/2014', '2/3/2015', '1/29/2015',\n",
       "       '7/26/2014', '7/19/2014', '12/21/2014', '6/28/2014', '7/20/2014',\n",
       "       '1/19/2015', '12/24/2014', '5/26/2014', '8/16/2014', '9/27/2014',\n",
       "       '7/6/2014', '12/14/2014', '10/5/2014', '4/12/2015', '11/15/2014',\n",
       "       '11/8/2014', '11/1/2014', '5/25/2014', '8/31/2014', '9/7/2014',\n",
       "       '3/29/2015', '10/19/2014', '6/29/2014', '5/4/2014', '4/4/2015',\n",
       "       '11/16/2014', '2/16/2015', '5/31/2014', '10/4/2014', '5/18/2014',\n",
       "       '11/9/2014', '3/15/2015', '4/5/2015', '5/10/2014', '2/7/2015',\n",
       "       '6/8/2014', '12/13/2014', '8/9/2014', '3/21/2015', '10/12/2014',\n",
       "       '5/15/2015', '8/17/2014', '7/4/2014', '9/13/2014', '3/7/2015',\n",
       "       '4/11/2015', '8/10/2014', '12/6/2014', '5/9/2015', '8/3/2014',\n",
       "       '9/28/2014', '5/3/2014', '7/13/2014', '7/5/2014', '10/25/2014',\n",
       "       '11/28/2014', '3/28/2015', '3/1/2015', '9/20/2014', '11/2/2014',\n",
       "       '1/25/2015', '9/21/2014', '1/10/2015', '8/23/2014', '10/26/2014',\n",
       "       '11/29/2014', '6/7/2014', '5/24/2015', '1/31/2015', '12/27/2014',\n",
       "       '1/17/2015', '9/14/2014', '3/8/2015', '8/30/2014', '5/27/2015',\n",
       "       '3/22/2015', '2/15/2015', '10/11/2014', '2/1/2015', '11/30/2014',\n",
       "       '8/24/2014', '7/27/2014'], dtype=object)"
      ]
     },
     "execution_count": 36,
     "metadata": {},
     "output_type": "execute_result"
    }
   ],
   "source": [
    "# check format of the date column\n",
    "clean_data['date'].unique()"
   ]
  },
  {
   "cell_type": "code",
   "execution_count": 37,
   "metadata": {},
   "outputs": [],
   "source": [
    "# format is clearly MM-DD-YYYY"
   ]
  },
  {
   "cell_type": "code",
   "execution_count": 38,
   "metadata": {},
   "outputs": [
    {
     "data": {
      "text/plain": [
       "0       2014-10-13\n",
       "1       2014-12-09\n",
       "2       2015-02-25\n",
       "3       2014-12-09\n",
       "4       2015-02-18\n",
       "           ...    \n",
       "21592   2014-05-21\n",
       "21593   2015-02-23\n",
       "21594   2014-06-23\n",
       "21595   2015-01-16\n",
       "21596   2014-10-15\n",
       "Name: date, Length: 21597, dtype: datetime64[ns]"
      ]
     },
     "execution_count": 38,
     "metadata": {},
     "output_type": "execute_result"
    }
   ],
   "source": [
    "pd.to_datetime(clean_data['date'], infer_datetime_format=True)"
   ]
  },
  {
   "cell_type": "code",
   "execution_count": 39,
   "metadata": {},
   "outputs": [],
   "source": [
    "clean_data['date'] = pd.to_datetime(clean_data['date'], infer_datetime_format=True)"
   ]
  },
  {
   "cell_type": "code",
   "execution_count": 40,
   "metadata": {},
   "outputs": [
    {
     "name": "stdout",
     "output_type": "stream",
     "text": [
      "<class 'pandas.core.frame.DataFrame'>\n",
      "RangeIndex: 21597 entries, 0 to 21596\n",
      "Data columns (total 20 columns):\n",
      " #   Column         Non-Null Count  Dtype         \n",
      "---  ------         --------------  -----         \n",
      " 0   date           21597 non-null  datetime64[ns]\n",
      " 1   price          21597 non-null  float64       \n",
      " 2   bedrooms       21597 non-null  int64         \n",
      " 3   bathrooms      21597 non-null  float64       \n",
      " 4   sqft_living    21597 non-null  int64         \n",
      " 5   sqft_lot       21597 non-null  int64         \n",
      " 6   floors         21597 non-null  float64       \n",
      " 7   waterfront     21597 non-null  float64       \n",
      " 8   view           21597 non-null  float64       \n",
      " 9   condition      21597 non-null  int64         \n",
      " 10  grade          21597 non-null  int64         \n",
      " 11  sqft_above     21597 non-null  int64         \n",
      " 12  sqft_basement  21597 non-null  float64       \n",
      " 13  yr_built       21597 non-null  int64         \n",
      " 14  yr_renovated   21597 non-null  float64       \n",
      " 15  zipcode        21597 non-null  int64         \n",
      " 16  lat            21597 non-null  float64       \n",
      " 17  long           21597 non-null  float64       \n",
      " 18  sqft_living15  21597 non-null  int64         \n",
      " 19  sqft_lot15     21597 non-null  int64         \n",
      "dtypes: datetime64[ns](1), float64(9), int64(10)\n",
      "memory usage: 3.3 MB\n"
     ]
    }
   ],
   "source": [
    "clean_data.info()"
   ]
  },
  {
   "cell_type": "code",
   "execution_count": 41,
   "metadata": {},
   "outputs": [],
   "source": [
    "# create individual columns\n",
    "clean_data['year_sold'] = clean_data['date'].map(lambda x: x.year)\n",
    "clean_data['month_sold'] = clean_data['date'].map(lambda x: x.month)\n",
    "clean_data['day_sold'] = clean_data['date'].map(lambda x: x.day)"
   ]
  },
  {
   "cell_type": "code",
   "execution_count": 42,
   "metadata": {},
   "outputs": [
    {
     "name": "stdout",
     "output_type": "stream",
     "text": [
      "<class 'pandas.core.frame.DataFrame'>\n",
      "RangeIndex: 21597 entries, 0 to 21596\n",
      "Data columns (total 23 columns):\n",
      " #   Column         Non-Null Count  Dtype         \n",
      "---  ------         --------------  -----         \n",
      " 0   date           21597 non-null  datetime64[ns]\n",
      " 1   price          21597 non-null  float64       \n",
      " 2   bedrooms       21597 non-null  int64         \n",
      " 3   bathrooms      21597 non-null  float64       \n",
      " 4   sqft_living    21597 non-null  int64         \n",
      " 5   sqft_lot       21597 non-null  int64         \n",
      " 6   floors         21597 non-null  float64       \n",
      " 7   waterfront     21597 non-null  float64       \n",
      " 8   view           21597 non-null  float64       \n",
      " 9   condition      21597 non-null  int64         \n",
      " 10  grade          21597 non-null  int64         \n",
      " 11  sqft_above     21597 non-null  int64         \n",
      " 12  sqft_basement  21597 non-null  float64       \n",
      " 13  yr_built       21597 non-null  int64         \n",
      " 14  yr_renovated   21597 non-null  float64       \n",
      " 15  zipcode        21597 non-null  int64         \n",
      " 16  lat            21597 non-null  float64       \n",
      " 17  long           21597 non-null  float64       \n",
      " 18  sqft_living15  21597 non-null  int64         \n",
      " 19  sqft_lot15     21597 non-null  int64         \n",
      " 20  year_sold      21597 non-null  int64         \n",
      " 21  month_sold     21597 non-null  int64         \n",
      " 22  day_sold       21597 non-null  int64         \n",
      "dtypes: datetime64[ns](1), float64(9), int64(13)\n",
      "memory usage: 3.8 MB\n"
     ]
    }
   ],
   "source": [
    "clean_data.info()"
   ]
  },
  {
   "cell_type": "code",
   "execution_count": 43,
   "metadata": {},
   "outputs": [],
   "source": [
    "# drop date column\n",
    "clean_data = clean_data.drop('date', axis=1)"
   ]
  },
  {
   "cell_type": "code",
   "execution_count": 44,
   "metadata": {},
   "outputs": [],
   "source": [
    "# before further preprocessing / evaluating distributions, etc. run a baseline regression\n",
    "# note that this will not necessary meet all assumptions for regression, just a baseline"
   ]
  },
  {
   "cell_type": "code",
   "execution_count": 45,
   "metadata": {},
   "outputs": [],
   "source": [
    "y = clean_data['price']\n",
    "X = clean_data.drop('price', axis=1)"
   ]
  },
  {
   "cell_type": "code",
   "execution_count": 46,
   "metadata": {},
   "outputs": [
    {
     "ename": "NameError",
     "evalue": "name 'sm' is not defined",
     "output_type": "error",
     "traceback": [
      "\u001b[0;31m---------------------------------------------------------------------------\u001b[0m",
      "\u001b[0;31mNameError\u001b[0m                                 Traceback (most recent call last)",
      "\u001b[0;32m<ipython-input-46-bda1e54acada>\u001b[0m in \u001b[0;36m<module>\u001b[0;34m\u001b[0m\n\u001b[1;32m      1\u001b[0m \u001b[0;31m# add constant\u001b[0m\u001b[0;34m\u001b[0m\u001b[0;34m\u001b[0m\u001b[0;34m\u001b[0m\u001b[0m\n\u001b[0;32m----> 2\u001b[0;31m \u001b[0mpredictors\u001b[0m \u001b[0;34m=\u001b[0m \u001b[0msm\u001b[0m\u001b[0;34m.\u001b[0m\u001b[0madd_constant\u001b[0m\u001b[0;34m(\u001b[0m\u001b[0mX\u001b[0m\u001b[0;34m)\u001b[0m\u001b[0;34m\u001b[0m\u001b[0;34m\u001b[0m\u001b[0m\n\u001b[0m",
      "\u001b[0;31mNameError\u001b[0m: name 'sm' is not defined"
     ]
    }
   ],
   "source": [
    "# add constant\n",
    "predictors = sm.add_constant(X)"
   ]
  },
  {
   "cell_type": "code",
   "execution_count": null,
   "metadata": {},
   "outputs": [],
   "source": [
    "# fit model\n",
    "model = sm.OLS(y, predictors).fit()"
   ]
  },
  {
   "cell_type": "code",
   "execution_count": null,
   "metadata": {},
   "outputs": [],
   "source": [
    "model.summary()"
   ]
  },
  {
   "cell_type": "code",
   "execution_count": null,
   "metadata": {},
   "outputs": [],
   "source": [
    "# run in sklearn and run cross-val\n",
    "regression = LinearRegression()\n",
    "crossvalidation = KFold(n_splits=4, shuffle=True, random_state=1)\n",
    "baseline = np.mean(cross_val_score(regression, predictors, y, scoring='r2', cv=crossvalidation))\n",
    "baseline"
   ]
  },
  {
   "cell_type": "code",
   "execution_count": null,
   "metadata": {},
   "outputs": [],
   "source": [
    "# forward feature selection"
   ]
  },
  {
   "cell_type": "code",
   "execution_count": null,
   "metadata": {},
   "outputs": [],
   "source": [
    "import statsmodels.api as sm\n",
    "\n",
    "def stepwise_selection(X, y, \n",
    "                       initial_list=[], \n",
    "                       threshold_in=0.01, \n",
    "                       threshold_out = 0.05, \n",
    "                       verbose=True):\n",
    "    \"\"\" \n",
    "    Perform a forward-backward feature selection \n",
    "    based on p-value from statsmodels.api.OLS\n",
    "    Arguments:\n",
    "        X - pandas.DataFrame with candidate features\n",
    "        y - list-like with the target\n",
    "        initial_list - list of features to start with (column names of X)\n",
    "        threshold_in - include a feature if its p-value < threshold_in\n",
    "        threshold_out - exclude a feature if its p-value > threshold_out\n",
    "        verbose - whether to print the sequence of inclusions and exclusions\n",
    "    Returns: list of selected features \n",
    "    Always set threshold_in < threshold_out to avoid infinite looping.\n",
    "    See https://en.wikipedia.org/wiki/Stepwise_regression for the details\n",
    "    \"\"\"\n",
    "    included = list(initial_list)\n",
    "    while True:\n",
    "        changed=False\n",
    "        # forward step\n",
    "        excluded = list(set(X.columns)-set(included))\n",
    "        new_pval = pd.Series(index=excluded)\n",
    "        for new_column in excluded:\n",
    "            model = sm.OLS(y, sm.add_constant(pd.DataFrame(X[included+[new_column]]))).fit()\n",
    "            new_pval[new_column] = model.pvalues[new_column]\n",
    "        best_pval = new_pval.min()\n",
    "        if best_pval < threshold_in:\n",
    "            best_feature = new_pval.idxmin()\n",
    "            included.append(best_feature)\n",
    "            changed=True\n",
    "            if verbose:\n",
    "                print('Add  {:30} with p-value {:.6}'.format(best_feature, best_pval))\n",
    "\n",
    "        # backward step\n",
    "        model = sm.OLS(y, sm.add_constant(pd.DataFrame(X[included]))).fit()\n",
    "        # use all coefs except intercept\n",
    "        pvalues = model.pvalues.iloc[1:]\n",
    "        worst_pval = pvalues.max() # null if pvalues is empty\n",
    "        if worst_pval > threshold_out:\n",
    "            changed=True\n",
    "            worst_feature = pvalues.argmax()\n",
    "            included.remove(worst_feature)\n",
    "            if verbose:\n",
    "                print('Drop {:30} with p-value {:.6}'.format(worst_feature, worst_pval))\n",
    "        if not changed:\n",
    "            break\n",
    "    return included"
   ]
  },
  {
   "cell_type": "code",
   "execution_count": null,
   "metadata": {},
   "outputs": [],
   "source": [
    "result = stepwise_selection(X, y, verbose = True)\n",
    "print('resulting features:')\n",
    "print(result)"
   ]
  },
  {
   "cell_type": "code",
   "execution_count": null,
   "metadata": {},
   "outputs": [],
   "source": [
    "# figure out feature selection"
   ]
  },
  {
   "cell_type": "code",
   "execution_count": null,
   "metadata": {},
   "outputs": [],
   "source": [
    "#________________"
   ]
  },
  {
   "cell_type": "code",
   "execution_count": null,
   "metadata": {},
   "outputs": [],
   "source": []
  },
  {
   "cell_type": "code",
   "execution_count": null,
   "metadata": {},
   "outputs": [],
   "source": [
    "dkjaldkfa"
   ]
  },
  {
   "cell_type": "code",
   "execution_count": null,
   "metadata": {},
   "outputs": [],
   "source": []
  },
  {
   "cell_type": "code",
   "execution_count": null,
   "metadata": {},
   "outputs": [],
   "source": [
    "# evaluate columns, relationships between predictors and price, to refine model remove columns\n",
    "# that violate assumptions, etc. \n",
    "# begin further preprocessing, OHE, etc. to try and improve results, ensure assumptions are met"
   ]
  },
  {
   "cell_type": "code",
   "execution_count": null,
   "metadata": {},
   "outputs": [],
   "source": [
    "\"\"\"\n",
    "Function to plot y vs. a chosen set of x variables\n",
    "\"\"\"\n",
    "def plot_x_y(n_rows=1, x_vals, y_val, data):\n",
    "    fig, axes = plt.subplots(nrows=n_rows, ncols=len(x_vals), figsize=(20,5))\n",
    "    for xcol, ax in zip(x_vals, axes):\n",
    "        data.plot(kind='scatter', x=xcol, y=y_val, ax=ax, alpha=0.5)\n",
    "    plt.style.use('ggplot')\n",
    "    plt.tight_layout()\n",
    "    plt.show()"
   ]
  },
  {
   "cell_type": "code",
   "execution_count": null,
   "metadata": {},
   "outputs": [],
   "source": [
    "clean_data.info()"
   ]
  },
  {
   "cell_type": "code",
   "execution_count": null,
   "metadata": {},
   "outputs": [],
   "source": [
    "# plot all columns against price\n",
    "plot_x_y(['bedrooms', 'bathrooms', 'sqft_living', 'sqft_lot'], 'price', data=clean_data)\n",
    "plot_x_y(['floors', 'waterfront', 'view', 'condition'], 'price', data=clean_data)\n",
    "plot_x_y(['grade', 'sqft_above', 'sqft_basement', 'yr_built'], 'price', data=clean_data)\n",
    "plot_x_y(['yr_renovated', 'zipcode', 'lat', 'long'], 'price', data=clean_data)\n",
    "plot_x_y(['sqft_living15', 'sqft_lot15', 'year_sold', 'month_sold'], 'price', data=clean_data)\n",
    "plt.scatter(x=clean_data['day_sold'], y=clean_data['price'])"
   ]
  },
  {
   "cell_type": "code",
   "execution_count": null,
   "metadata": {},
   "outputs": [],
   "source": [
    "# separate clear continous and categorical data\n",
    "cont_cols = ['sqft_living', 'sqft_lot', 'sqft_above', 'sqft_basement', \n",
    "                  'lat', 'long', 'sqft_living15', 'sqft_lot15']\n",
    "cat_cols = ['bedrooms', 'bathrooms', 'floors', 'waterfront', 'view', 'condition', 'grade',\n",
    "                 'yr_renovated', 'yr_built', 'zipcode', 'year_sold', 'month_sold', 'day_sold']"
   ]
  },
  {
   "cell_type": "code",
   "execution_count": null,
   "metadata": {},
   "outputs": [],
   "source": [
    "# create dataframes\n",
    "cont_variables = clean_data[cont_cols]\n",
    "cat_variables = clean_data[cat_cols]"
   ]
  },
  {
   "cell_type": "code",
   "execution_count": null,
   "metadata": {},
   "outputs": [],
   "source": [
    "# start preprocessing with the categorical data\n",
    "# will need to separate out true categorical data and ordinal data - - ordinal data will be left as a single col,\n",
    "# non-ordinal data will be one hot encoded"
   ]
  },
  {
   "cell_type": "code",
   "execution_count": null,
   "metadata": {},
   "outputs": [],
   "source": [
    "# replot against price to see relationships, distributions, etc.\n",
    "plot_x_y(['bedrooms', 'bathrooms', 'floors', 'waterfront'], 'price', data=clean_data)\n",
    "plot_x_y(['view', 'condition', 'grade', 'yr_renovated'], 'price', data=clean_data)\n",
    "plot_x_y(['yr_built', 'zipcode'], 'price', data=clean_data)\n",
    "plot_x_y(['year_sold', 'month_sold', 'day_sold'], 'price', data=clean_data)"
   ]
  },
  {
   "cell_type": "code",
   "execution_count": null,
   "metadata": {},
   "outputs": [],
   "source": [
    "clean_data['year_sold'].unique()"
   ]
  },
  {
   "cell_type": "code",
   "execution_count": null,
   "metadata": {},
   "outputs": [],
   "source": [
    "# the data only includes houses sold in 2014 and 2015"
   ]
  },
  {
   "cell_type": "code",
   "execution_count": null,
   "metadata": {},
   "outputs": [],
   "source": [
    "cat_variables.info()"
   ]
  },
  {
   "cell_type": "code",
   "execution_count": null,
   "metadata": {},
   "outputs": [],
   "source": [
    "# plot boxplots to see if there is an ordinal relationship\n",
    "plt.figure(figsize=(8,4))\n",
    "ax = sns.boxplot(x='bedrooms', y='price', data=clean_data)\n",
    "plt.show()"
   ]
  },
  {
   "cell_type": "code",
   "execution_count": null,
   "metadata": {},
   "outputs": [],
   "source": [
    "# there are a lot of outliers on price\n",
    "# look at distribution of price again\n",
    "sns.distplot(clean_data['price'])"
   ]
  },
  {
   "cell_type": "code",
   "execution_count": null,
   "metadata": {},
   "outputs": [],
   "source": [
    "# look at the log of price\n",
    "sns.distplot(np.log(clean_data['price']))"
   ]
  },
  {
   "cell_type": "code",
   "execution_count": null,
   "metadata": {},
   "outputs": [],
   "source": [
    "# log transform price\n",
    "clean_data['log_price'] = np.log(clean_data['price'])"
   ]
  },
  {
   "cell_type": "code",
   "execution_count": null,
   "metadata": {},
   "outputs": [],
   "source": [
    "\"\"\"\"\"\"\n",
    "# drop original price column\n",
    "preprocessed = clean_data.drop('price', axis=1)"
   ]
  },
  {
   "cell_type": "code",
   "execution_count": null,
   "metadata": {},
   "outputs": [],
   "source": [
    "# rerun model to see if this helps improve results\n",
    "y = preprocessed['log_price']\n",
    "X = preprocessed.drop('log_price', axis=1)\n",
    "\n",
    "predictors = sm.add_constant(X)\n",
    "model = sm.OLS(y, predictors).fit()"
   ]
  },
  {
   "cell_type": "code",
   "execution_count": null,
   "metadata": {},
   "outputs": [],
   "source": [
    "model.summary()"
   ]
  },
  {
   "cell_type": "code",
   "execution_count": null,
   "metadata": {},
   "outputs": [],
   "source": [
    "# cross-fold validation\n",
    "regression = LinearRegression()\n",
    "crossvalidation = KFold(n_splits=4, shuffle=True, random_state=1)\n",
    "model_2 = np.mean(cross_val_score(regression, predictors, y, scoring='r2', cv=crossvalidation))\n",
    "model_2"
   ]
  },
  {
   "cell_type": "code",
   "execution_count": null,
   "metadata": {},
   "outputs": [],
   "source": [
    "model_2 - baseline"
   ]
  },
  {
   "cell_type": "code",
   "execution_count": null,
   "metadata": {},
   "outputs": [],
   "source": [
    "# results improved significantly"
   ]
  },
  {
   "cell_type": "code",
   "execution_count": null,
   "metadata": {},
   "outputs": [],
   "source": [
    "# Bedrooms\n",
    "plt.figure(figsize=(8,4))\n",
    "ax = sns.boxplot(x='bedrooms', y='log_price', data=preprocessed)\n",
    "plt.show()"
   ]
  },
  {
   "cell_type": "code",
   "execution_count": null,
   "metadata": {},
   "outputs": [],
   "source": [
    "# there seems to be an ordinal relationship here, that is slightly linear - - keep as a single column"
   ]
  },
  {
   "cell_type": "code",
   "execution_count": null,
   "metadata": {},
   "outputs": [],
   "source": [
    "# Bathrooms\n",
    "plt.figure(figsize=(8,4))\n",
    "ax = sns.boxplot(x='bathrooms', y='log_price', data=preprocessed)\n",
    "plt.show()"
   ]
  },
  {
   "cell_type": "code",
   "execution_count": null,
   "metadata": {},
   "outputs": [],
   "source": [
    "# there is an ordinal relationship here as well that appears more or less linear - - keep as a single column"
   ]
  },
  {
   "cell_type": "code",
   "execution_count": null,
   "metadata": {},
   "outputs": [],
   "source": [
    "# Floors\n",
    "plt.figure(figsize=(8,4))\n",
    "ax = sns.boxplot(x='floors', y='log_price', data=preprocessed)\n",
    "plt.show()"
   ]
  },
  {
   "cell_type": "code",
   "execution_count": null,
   "metadata": {},
   "outputs": [],
   "source": [
    "# Not as ordinal of a relationship - - OHE\n",
    "floor_dummies = pd.get_dummies(preprocessed['floors'], prefix='floors', drop_first=True)"
   ]
  },
  {
   "cell_type": "code",
   "execution_count": null,
   "metadata": {},
   "outputs": [],
   "source": [
    "# Waterfront\n",
    "plt.figure(figsize=(5,3))\n",
    "ax = sns.boxplot(x='waterfront', y='log_price', data=preprocessed)\n",
    "plt.show()"
   ]
  },
  {
   "cell_type": "code",
   "execution_count": null,
   "metadata": {},
   "outputs": [],
   "source": [
    "# only two possible values so will OHE\n",
    "waterfront_dummies = pd.get_dummies(preprocessed['waterfront'], prefix='waterfront', drop_first=True)"
   ]
  },
  {
   "cell_type": "code",
   "execution_count": null,
   "metadata": {},
   "outputs": [],
   "source": [
    "# View\n",
    "plt.figure(figsize=(8,4))\n",
    "ax = sns.boxplot(x='view', y='log_price', data=preprocessed)\n",
    "plt.show()"
   ]
  },
  {
   "cell_type": "code",
   "execution_count": null,
   "metadata": {},
   "outputs": [],
   "source": [
    "# seems like there is an ordinal relationship here - - will leave as a single column for now"
   ]
  },
  {
   "cell_type": "code",
   "execution_count": null,
   "metadata": {},
   "outputs": [],
   "source": [
    "# Condition\n",
    "plt.figure(figsize=(8,4))\n",
    "ax = sns.boxplot(x='condition', y='log_price', data=preprocessed)\n",
    "plt.show()"
   ]
  },
  {
   "cell_type": "code",
   "execution_count": null,
   "metadata": {},
   "outputs": [],
   "source": [
    "# no clear ordinal relationship - - OHE\n",
    "condition_dummies = pd.get_dummies(preprocessed['condition'], prefix='condition', drop_first=True)"
   ]
  },
  {
   "cell_type": "code",
   "execution_count": null,
   "metadata": {},
   "outputs": [],
   "source": [
    "# Grade\n",
    "plt.figure(figsize=(8,4))\n",
    "ax = sns.boxplot(x='grade', y='log_price', data=preprocessed)\n",
    "plt.show()"
   ]
  },
  {
   "cell_type": "code",
   "execution_count": null,
   "metadata": {},
   "outputs": [],
   "source": [
    "# clear ordinal relationship, leave as a single column"
   ]
  },
  {
   "cell_type": "code",
   "execution_count": null,
   "metadata": {},
   "outputs": [],
   "source": [
    "# Year Renovated\n",
    "plt.figure(figsize=(8,4))\n",
    "ax = sns.boxplot(x='yr_renovated', y='log_price', data=preprocessed)\n",
    "plt.show()"
   ]
  },
  {
   "cell_type": "code",
   "execution_count": null,
   "metadata": {},
   "outputs": [],
   "source": [
    "# would not say there is a clear relationship here - try OHE\n",
    "yr_reno_dummies = pd.get_dummies(preprocessed['yr_renovated'], prefix='yr_reno', drop_first=True)"
   ]
  },
  {
   "cell_type": "code",
   "execution_count": null,
   "metadata": {},
   "outputs": [],
   "source": [
    "# Year Built\n",
    "plt.figure(figsize=(8,4))\n",
    "ax = sns.boxplot(x='yr_built', y='log_price', data=preprocessed)\n",
    "plt.show()"
   ]
  },
  {
   "cell_type": "code",
   "execution_count": null,
   "metadata": {},
   "outputs": [],
   "source": [
    "# no clear relationship - - OHE\n",
    "yr_built_dummies = pd.get_dummies(preprocessed['yr_built'], prefix='yr_built', drop_first=True)"
   ]
  },
  {
   "cell_type": "code",
   "execution_count": null,
   "metadata": {},
   "outputs": [],
   "source": [
    "# Zipcode\n",
    "plt.figure(figsize=(8,4))\n",
    "ax = sns.boxplot(x='zipcode', y='log_price', data=preprocessed)\n",
    "plt.show()"
   ]
  },
  {
   "cell_type": "code",
   "execution_count": null,
   "metadata": {},
   "outputs": [],
   "source": [
    "# no clear relationship, OHE\n",
    "zipcode_dummies = pd.get_dummies(preprocessed['zipcode'], prefix='zipcode', drop_first=True)"
   ]
  },
  {
   "cell_type": "code",
   "execution_count": null,
   "metadata": {},
   "outputs": [],
   "source": [
    "# Year Sold\n",
    "plt.figure(figsize=(8,4))\n",
    "ax = sns.boxplot(x='year_sold', y='log_price', data=preprocessed)\n",
    "plt.show()"
   ]
  },
  {
   "cell_type": "code",
   "execution_count": null,
   "metadata": {},
   "outputs": [],
   "source": [
    "# OHE\n",
    "year_sold_dummies = pd.get_dummies(preprocessed['year_sold'], prefix='yr_sold', drop_first=True)"
   ]
  },
  {
   "cell_type": "code",
   "execution_count": null,
   "metadata": {},
   "outputs": [],
   "source": [
    "# Month Sold\n",
    "plt.figure(figsize=(8,4))\n",
    "ax = sns.boxplot(x='month_sold', y='log_price', data=preprocessed)\n",
    "plt.show()"
   ]
  },
  {
   "cell_type": "code",
   "execution_count": null,
   "metadata": {},
   "outputs": [],
   "source": [
    "# again no clear relationship, OHE\n",
    "month_sold_dummies = pd.get_dummies(preprocessed['month_sold'], prefix='month_sold', drop_first=True)"
   ]
  },
  {
   "cell_type": "code",
   "execution_count": null,
   "metadata": {},
   "outputs": [],
   "source": [
    "# Day Sold\n",
    "day_sold_dummies = pd.get_dummies(preprocessed['day_sold'], prefix='day_sold', drop_first=True)"
   ]
  },
  {
   "cell_type": "code",
   "execution_count": null,
   "metadata": {},
   "outputs": [],
   "source": [
    "# now that we have created some dummy variables - concat and rerun to see if any improvement\n",
    "dummy_list = [floor_dummies, waterfront_dummies, condition_dummies, \n",
    "              yr_reno_dummies, yr_built_dummies, zipcode_dummies, \n",
    "              year_sold_dummies, month_sold_dummies, day_sold_dummies]"
   ]
  },
  {
   "cell_type": "code",
   "execution_count": null,
   "metadata": {},
   "outputs": [],
   "source": [
    "preprocessed = pd.concat([preprocessed, floor_dummies, waterfront_dummies, condition_dummies,\n",
    "                          yr_reno_dummies, yr_built_dummies, zipcode_dummies, year_sold_dummies,\n",
    "                          month_sold_dummies, day_sold_dummies], axis=1)"
   ]
  },
  {
   "cell_type": "code",
   "execution_count": null,
   "metadata": {},
   "outputs": [],
   "source": [
    "# drop columns\n",
    "preprocessed = preprocessed.drop(['floors', 'waterfront', 'condition', 'yr_renovated', \n",
    "                                  'yr_built', 'zipcode', 'year_sold', 'month_sold', 'day_sold'], axis=1)"
   ]
  },
  {
   "cell_type": "code",
   "execution_count": null,
   "metadata": {},
   "outputs": [],
   "source": [
    "# rerun the model to see if results improve at all"
   ]
  },
  {
   "cell_type": "code",
   "execution_count": null,
   "metadata": {},
   "outputs": [],
   "source": [
    "y = preprocessed['log_price']\n",
    "X = preprocessed.drop('log_price', axis=1)"
   ]
  },
  {
   "cell_type": "code",
   "execution_count": null,
   "metadata": {},
   "outputs": [],
   "source": [
    "predictors = sm.add_constant(X)\n",
    "model = sm.OLS(y, predictors).fit()"
   ]
  },
  {
   "cell_type": "code",
   "execution_count": null,
   "metadata": {},
   "outputs": [],
   "source": [
    "model.summary()"
   ]
  },
  {
   "cell_type": "code",
   "execution_count": null,
   "metadata": {},
   "outputs": [],
   "source": [
    "# r2 value is up now, again assumptions have not been checked yet"
   ]
  },
  {
   "cell_type": "code",
   "execution_count": null,
   "metadata": {},
   "outputs": [],
   "source": [
    "# cross validation\n",
    "regression = LinearRegression()\n",
    "crossvalidation = KFold(n_splits=4, shuffle=True, random_state=1)\n",
    "model_3 = np.mean(cross_val_score(regression, predictors, y, scoring='r2', cv=crossvalidation))\n",
    "model_3"
   ]
  },
  {
   "cell_type": "code",
   "execution_count": null,
   "metadata": {},
   "outputs": [],
   "source": [
    "model_3 - model_2"
   ]
  },
  {
   "cell_type": "code",
   "execution_count": null,
   "metadata": {},
   "outputs": [],
   "source": [
    "# now that we have handled categorical data, remove multicollinearity\n",
    "data_pred = preprocessed.iloc[:, 2:]\n",
    "data_pred.head()"
   ]
  },
  {
   "cell_type": "code",
   "execution_count": null,
   "metadata": {},
   "outputs": [],
   "source": [
    "# return only highly correlated pairs\n",
    "# save absolute value of correlation matrix as data frame\n",
    "# converts all values to absolute value\n",
    "# stacks the row:column pairs into a multindex\n",
    "# reset the index to set the multindex to seperate columns\n",
    "# sort values. 0 is the column automatically generated by the stacking\n",
    "\n",
    "df = data_pred.corr().abs().stack().reset_index().sort_values(0, ascending=False)\n",
    "\n",
    "#zip the variable name columns (named level_0 and level_1 by default) in a new column named \"pairs\"\n",
    "df['pairs'] = list(zip(df.level_0, df.level_1))\n",
    "\n",
    "#set index to pairs\n",
    "df.set_index(['pairs'], inplace=True)\n",
    "\n",
    "#drop level columns\n",
    "df.drop(columns=['level_1', 'level_0'], inplace=True)\n",
    "\n",
    "# rename correlation column as cc rather than 0\n",
    "df.columns = ['cc']\n",
    "\n",
    "# drop duplicates\n",
    "df.drop_duplicates(inplace=True)"
   ]
  },
  {
   "cell_type": "code",
   "execution_count": null,
   "metadata": {},
   "outputs": [],
   "source": [
    "# get pairs that are more than 75% correlated\n",
    "df[(df.cc>.75) & (df.cc<1)]"
   ]
  },
  {
   "cell_type": "code",
   "execution_count": null,
   "metadata": {},
   "outputs": [],
   "source": [
    "#sqft_above, sqft_living, grade are correlated with each other, same with sqft_living and sqft_living15\n",
    "# remove condition_4 as it is correlated with condition_3\n",
    "# remove sqft_living and sqft_above\n",
    "preprocessed = preprocessed.drop(['condition_4', 'sqft_living', 'sqft_above'], axis=1)"
   ]
  },
  {
   "cell_type": "code",
   "execution_count": null,
   "metadata": {},
   "outputs": [],
   "source": [
    "# rerun regressions to see how this changed things\n",
    "y = preprocessed['log_price']\n",
    "X = preprocessed.drop('log_price', axis=1)\n",
    "\n",
    "predictors = sm.add_constant(X)\n",
    "model = sm.OLS(y, predictors).fit()\n",
    "model.summary()"
   ]
  },
  {
   "cell_type": "code",
   "execution_count": null,
   "metadata": {},
   "outputs": [],
   "source": [
    "# cross validation\n",
    "regression = LinearRegression()\n",
    "crossvalidation = KFold(n_splits=4, shuffle=True, random_state=1)\n",
    "model_4 = np.mean(cross_val_score(regression, predictors, y, scoring='r2', cv=crossvalidation))\n",
    "model_4"
   ]
  },
  {
   "cell_type": "code",
   "execution_count": null,
   "metadata": {},
   "outputs": [],
   "source": [
    "model_4 - model_3"
   ]
  },
  {
   "cell_type": "code",
   "execution_count": null,
   "metadata": {},
   "outputs": [],
   "source": [
    "# there is a slight decrease in performance here, but we will keep it so we don't include effects of multicollinearity"
   ]
  },
  {
   "cell_type": "code",
   "execution_count": null,
   "metadata": {},
   "outputs": [],
   "source": [
    "# continue preprocessing other continuos data"
   ]
  },
  {
   "cell_type": "code",
   "execution_count": null,
   "metadata": {},
   "outputs": [],
   "source": [
    "# replot against price to evaluate relationships"
   ]
  },
  {
   "cell_type": "code",
   "execution_count": null,
   "metadata": {},
   "outputs": [],
   "source": [
    "plot_x_y(['sqft_lot', 'sqft_basement', 'lat'], 'log_price', data=preprocessed)\n",
    "plot_x_y(['long', 'sqft_living15', 'sqft_lot15'], 'log_price', data=preprocessed)"
   ]
  },
  {
   "cell_type": "code",
   "execution_count": null,
   "metadata": {},
   "outputs": [],
   "source": [
    "# sqft_living, sqft_above, sqft_basement, sqft_living15 all appear to meet the linear assumptions\n",
    "# clear non-linear columns:\n",
    "non_linear = ['sqft_lot', 'long', 'sqft_lot15']\n",
    "linear = ['sqft_living15', 'lat', 'sqft_basement']"
   ]
  },
  {
   "cell_type": "code",
   "execution_count": null,
   "metadata": {},
   "outputs": [],
   "source": [
    "preprocessed = preprocessed.drop(['sqft_lot', 'long', 'sqft_lot15'], axis=1)"
   ]
  },
  {
   "cell_type": "code",
   "execution_count": null,
   "metadata": {},
   "outputs": [],
   "source": [
    "# rerun regression\n",
    "y = preprocessed['log_price']\n",
    "X = preprocessed.drop('log_price', axis=1)\n",
    "\n",
    "predictors = sm.add_constant(X)\n",
    "model = sm.OLS(y, predictors).fit()\n",
    "model.summary()"
   ]
  },
  {
   "cell_type": "code",
   "execution_count": null,
   "metadata": {},
   "outputs": [],
   "source": [
    "# cross validation\n",
    "regression = LinearRegression()\n",
    "crossvalidation = KFold(n_splits=5, shuffle=True, random_state=1)\n",
    "model_5 = np.mean(cross_val_score(regression, predictors, y, scoring='r2', cv=crossvalidation))\n",
    "model_5"
   ]
  },
  {
   "cell_type": "code",
   "execution_count": null,
   "metadata": {},
   "outputs": [],
   "source": [
    "# replot cont variables against price"
   ]
  },
  {
   "cell_type": "code",
   "execution_count": null,
   "metadata": {},
   "outputs": [],
   "source": [
    "plot_x_y(['sqft_basement', 'sqft_living15', 'lat'], 'log_price', data=preprocessed)"
   ]
  },
  {
   "cell_type": "code",
   "execution_count": null,
   "metadata": {},
   "outputs": [],
   "source": [
    "# relationships appear relatively linear, will keep these variables in - - lat is not so linear, but may be polynomial\n",
    "# will evaluate later on"
   ]
  },
  {
   "cell_type": "code",
   "execution_count": null,
   "metadata": {},
   "outputs": [],
   "source": [
    "model_5 - model_4"
   ]
  },
  {
   "cell_type": "code",
   "execution_count": null,
   "metadata": {},
   "outputs": [],
   "source": [
    "# slightly worse, but variables did not meet assumptions so removed them"
   ]
  },
  {
   "cell_type": "code",
   "execution_count": null,
   "metadata": {},
   "outputs": [],
   "source": [
    "# check which of the continous variables would benefit from log transformation\n",
    "sns.distplot(preprocessed['sqft_basement'])\n",
    "plt.show()\n",
    "sns.distplot(preprocessed['sqft_living15'])\n",
    "plt.show()\n",
    "sns.distplot(preprocessed['lat'])\n",
    "plt.show()"
   ]
  },
  {
   "cell_type": "code",
   "execution_count": null,
   "metadata": {},
   "outputs": [],
   "source": [
    "# log transform sqft_living15 as this looks like it could benefit (right skew)\n",
    "preprocessed['sqft_living15'] = np.log(preprocessed['sqft_living15'])"
   ]
  },
  {
   "cell_type": "code",
   "execution_count": null,
   "metadata": {},
   "outputs": [],
   "source": [
    "# rerun to see if this impacted things for the better\n",
    "# rerun regression\n",
    "y = preprocessed['log_price']\n",
    "X = preprocessed.drop('log_price', axis=1)\n",
    "\n",
    "predictors = sm.add_constant(X)\n",
    "model = sm.OLS(y, predictors).fit()\n",
    "model.summary()"
   ]
  },
  {
   "cell_type": "code",
   "execution_count": null,
   "metadata": {},
   "outputs": [],
   "source": [
    "# cross validation\n",
    "regression = LinearRegression()\n",
    "crossvalidation = KFold(n_splits=4, shuffle=True, random_state=1)\n",
    "model_6 = np.mean(cross_val_score(regression, predictors, y, scoring='r2', cv=crossvalidation))\n",
    "model_6"
   ]
  },
  {
   "cell_type": "code",
   "execution_count": null,
   "metadata": {},
   "outputs": [],
   "source": [
    "model_6 - model_5"
   ]
  },
  {
   "cell_type": "code",
   "execution_count": null,
   "metadata": {},
   "outputs": [],
   "source": [
    "# log transformations worked"
   ]
  },
  {
   "cell_type": "code",
   "execution_count": null,
   "metadata": {},
   "outputs": [],
   "source": [
    "cross_val_score()"
   ]
  }
 ],
 "metadata": {
  "kernelspec": {
   "display_name": "Python [conda env:learn-env] *",
   "language": "python",
   "name": "conda-env-learn-env-py"
  },
  "language_info": {
   "codemirror_mode": {
    "name": "ipython",
    "version": 3
   },
   "file_extension": ".py",
   "mimetype": "text/x-python",
   "name": "python",
   "nbconvert_exporter": "python",
   "pygments_lexer": "ipython3",
   "version": "3.6.9"
  }
 },
 "nbformat": 4,
 "nbformat_minor": 2
}
