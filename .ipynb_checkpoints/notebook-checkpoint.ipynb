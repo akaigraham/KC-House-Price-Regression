{
 "cells": [
  {
   "cell_type": "markdown",
   "id": "a82d074f",
   "metadata": {},
   "source": [
    "# Module 2 Project - Housing Price Regression"
   ]
  },
  {
   "cell_type": "markdown",
   "id": "d5be242c",
   "metadata": {},
   "source": [
    "## Scope\n",
    "I will be building a multivariate regression on the KC Housing Dataset with the goal of predicting house sale price as accurately as possible. This exercise will be completed in the context of a private equity / real estate investment firm looking for diligence and valuation support. Ideally, this regression will help identify statistically significant variables to target during due diligence processes to ensure time is spent researching aspects of a house that are meaningful to price. Additionally, if the data supports it, firms will be able to leverage this data to determine which potential future projects might be correlated with higher sales prices to guide renovation work. Ultimately, using the tool for buyers and sellers, this tool can be used to minimize risk and help improve return realization. \n",
    "\n",
    "I will aim to answer the following three primary questions:\n",
    "1. What does the current KC housing market look like and what do the majority of houses have in common\n",
    "2. Are there specific times (years, months, days) that might be related with a higher sale price?\n",
    "3. Are provided rankings (grade, condition, etc.) trustworthy and are they actually relevant to predicting sale price?"
   ]
  },
  {
   "cell_type": "markdown",
   "id": "a05e0bf0",
   "metadata": {},
   "source": [
    "## Overview of Process:\n",
    "General process steps are as followed:\n",
    "1. Load dataset and handle data issues (missing values, weird values, column data types, etc.)\n",
    "2. Identify continuous, ordinal categorical, and non-ordinal categorical variables\n",
    "3. Drop continuous variables that do not meet linearity requirements\n",
    "4. Handle multi-collinearity amongst predictors\n",
    "5. Handle categorical variables - treat ordinal categorical variables as single columns and encode non-ordinal categorical columns\n",
    "6. Use stepwise selection to select features that meet p-value thresholds \n",
    "7. Run baseline model with these features \n",
    "8. Evaluate regression diagnostics and check assumptions\n",
    "9. Continue preprocessing / transforming to improve results"
   ]
  },
  {
   "cell_type": "code",
   "execution_count": null,
   "id": "368f3ff4",
   "metadata": {},
   "outputs": [],
   "source": []
  }
 ],
 "metadata": {
  "kernelspec": {
   "display_name": "Python 3",
   "language": "python",
   "name": "python3"
  },
  "language_info": {
   "codemirror_mode": {
    "name": "ipython",
    "version": 3
   },
   "file_extension": ".py",
   "mimetype": "text/x-python",
   "name": "python",
   "nbconvert_exporter": "python",
   "pygments_lexer": "ipython3",
   "version": "3.6.13"
  }
 },
 "nbformat": 4,
 "nbformat_minor": 5
}
